{
 "cells": [
  {
   "cell_type": "code",
   "execution_count": null,
   "id": "ccc0f510",
   "metadata": {},
   "outputs": [],
   "source": [
    "#1Q\n",
    "\n",
    "class Solution:\n",
    "    def construct2DArray(self, original: List[int], m: int, n: int) -> List[List[int]]:\n",
    "        if len(original) != m * n:\n",
    "            return []\n",
    "\n",
    "    ans = [[0] * n for _ in range(m)]\n",
    "\n",
    "    for i, num in enumerate(original):\n",
    "\n",
    "        ans[i // n][i % n] = num\n",
    "        return ans"
   ]
  },
  {
   "cell_type": "code",
   "execution_count": null,
   "id": "1c050bc0",
   "metadata": {},
   "outputs": [],
   "source": [
    "#2Q\n",
    "\n",
    "class Solution:\n",
    "    def arrangeCoins(self, n: int) -> int:\n",
    "        # low, high, res = 1, n, 0\n",
    "\n",
    "        # while low < high:\n",
    "        #     mid = low + (high - low) // 2 \n",
    "        #     if mid * (mid + 1) <= 2 * n:\n",
    "        #         res = mid\n",
    "        #         low = mid\n",
    "        #     else:\n",
    "        #         high = mid\n",
    "        \n",
    "        # return res\n",
    "\n",
    "        start, end = 1, n\n",
    "        while start <= end:\n",
    "            mid = start + (end - start) // 2\n",
    "            total = mid * (mid + 1) // 2\n",
    "            if total == n:\n",
    "                return mid\n",
    "            elif total < n:\n",
    "                start = mid + 1\n",
    "            else:\n",
    "                end = mid - 1\n",
    "\n",
    "        return end"
   ]
  },
  {
   "cell_type": "code",
   "execution_count": null,
   "id": "ea1e19b5",
   "metadata": {},
   "outputs": [],
   "source": [
    "#3Q\n",
    "\n",
    "def sortSquare(arr, n):\n",
    " \n",
    "    # First convert each array\n",
    "    # elements into its square\n",
    "    for i in range(n):\n",
    "        arr[i]= arr[i] * arr[i]\n",
    "    arr.sort()"
   ]
  },
  {
   "cell_type": "code",
   "execution_count": null,
   "id": "70bdf3df",
   "metadata": {},
   "outputs": [],
   "source": [
    "#4Q\n",
    "\n",
    "class Solution:\n",
    "    def findDifference(self, nums1: List[int], nums2: List[int]) -> List[List[int]]:\n",
    "        return [list(set(nums1).difference(nums2)), list(set(nums2).difference(nums1))]"
   ]
  },
  {
   "cell_type": "code",
   "execution_count": null,
   "id": "9b82756c",
   "metadata": {},
   "outputs": [],
   "source": [
    "#5Q\n",
    "\n",
    "class Solution:\n",
    "    def findTheDistanceValue(self, arr1: List[int], arr2: List[int], d: int) -> int:\n",
    "        return sum(all(abs(a - b) > d for b in arr2) for a in arr1)"
   ]
  },
  {
   "cell_type": "code",
   "execution_count": null,
   "id": "29fe294e",
   "metadata": {},
   "outputs": [],
   "source": [
    "#6Q\n",
    "\n",
    "numRay = [0, 4, 3, 2, 7, 8, 2, 3, 1]\n",
    "arr_size = len(numRay)\n",
    "for i in range(arr_size):\n",
    "  \n",
    "    x = numRay[i] % arr_size\n",
    "    numRay[x] = numRay[x] + arr_size\n",
    "  \n",
    "    print(\"The repeating elements are : \")\n",
    "for i in range(arr_size):\n",
    "    if (numRay[i] >= arr_size*2):\n",
    "        print(i, \" \")"
   ]
  },
  {
   "cell_type": "code",
   "execution_count": null,
   "id": "36506d06",
   "metadata": {},
   "outputs": [],
   "source": [
    "#7Q\n",
    "\n",
    "def findMin(arr, N):\n",
    "     \n",
    "    min_ele = arr[0];\n",
    " \n",
    "    # Traversing over array to\n",
    "    # find minimum element\n",
    "    for i in range(N) :\n",
    "        if arr[i] < min_ele :\n",
    "            min_ele = arr[i]\n",
    " \n",
    "    return min_ele;"
   ]
  },
  {
   "cell_type": "code",
   "execution_count": null,
   "id": "8f86847e",
   "metadata": {},
   "outputs": [],
   "source": [
    "#8Q\n",
    "\n",
    "def findOriginal(arr):\n",
    " \n",
    "    # Stores the numbers and\n",
    "    # their frequency\n",
    "    numFreq = {}\n",
    " \n",
    "    # Add number with their frequencies\n",
    "    # in the hashmap\n",
    "    for i in range(0, len(arr)):\n",
    "        if (arr[i] in numFreq):\n",
    "            numFreq[arr[i]] += 1\n",
    "        else:\n",
    "            numFreq[arr[i]] = 1\n",
    " \n",
    "    # Sort the array\n",
    "    arr.sort()\n",
    " \n",
    "    # Initialize an arraylist\n",
    "    res = []\n",
    " \n",
    "    for i in range(0, len(arr)):\n",
    "       \n",
    "        # Get the frequency of the number\n",
    "        freq = numFreq[arr[i]]\n",
    "        if (freq > 0):\n",
    "           \n",
    "            # Element is of original array\n",
    "            res.append(arr[i])\n",
    " \n",
    "            # Decrement the frequency of\n",
    "            # the number\n",
    "            numFreq[arr[i]] -= 1\n",
    " \n",
    "            twice = 2 * arr[i]\n",
    " \n",
    "            # Decrement the frequency of\n",
    "            # the number having double value\n",
    "            numFreq[twice] -= 1\n",
    " \n",
    "    # Return the resultant string\n",
    "    return res"
   ]
  }
 ],
 "metadata": {
  "kernelspec": {
   "display_name": "Python 3 (ipykernel)",
   "language": "python",
   "name": "python3"
  },
  "language_info": {
   "codemirror_mode": {
    "name": "ipython",
    "version": 3
   },
   "file_extension": ".py",
   "mimetype": "text/x-python",
   "name": "python",
   "nbconvert_exporter": "python",
   "pygments_lexer": "ipython3",
   "version": "3.9.12"
  }
 },
 "nbformat": 4,
 "nbformat_minor": 5
}
